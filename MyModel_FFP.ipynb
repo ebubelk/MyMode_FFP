{
  "nbformat": 4,
  "nbformat_minor": 0,
  "metadata": {
    "colab": {
      "provenance": [],
      "authorship_tag": "ABX9TyP++lCM6Qywd67k/E7urj1j",
      "include_colab_link": true
    },
    "kernelspec": {
      "name": "python3",
      "display_name": "Python 3"
    },
    "language_info": {
      "name": "python"
    }
  },
  "cells": [
    {
      "cell_type": "markdown",
      "metadata": {
        "id": "view-in-github",
        "colab_type": "text"
      },
      "source": [
        "<a href=\"https://colab.research.google.com/github/ebubelk/MyModel_FFP/blob/main/MyModel_FFP.ipynb\" target=\"_parent\"><img src=\"https://colab.research.google.com/assets/colab-badge.svg\" alt=\"Open In Colab\"/></a>"
      ]
    },
    {
      "cell_type": "code",
      "execution_count": null,
      "metadata": {
        "colab": {
          "base_uri": "https://localhost:8080/"
        },
        "id": "fiwQH0NHTH1m",
        "outputId": "dd8c6dc6-3500-4517-ce87-ca5acec98d5b"
      },
      "outputs": [
        {
          "output_type": "stream",
          "name": "stdout",
          "text": [
            "tensor([[0.4892],\n",
            "        [0.5566]], grad_fn=<MulBackward0>)\n"
          ]
        }
      ],
      "source": [
        "import torch\n",
        "import torch.nn as nn\n",
        "\n",
        "# Seed \" 1 \" olarak tanimlanmasi\n",
        "torch.manual_seed(1)\n",
        "\n",
        "# X matrisini PyTorch Tensor formatina donusturulmesi\n",
        "X = torch.tensor([[1, 2, 3 ],[4, 5, 6]], dtype = torch.float32)\n",
        "\n",
        "# Aktivasyon fonksiyonlarinin tanimlanmasi\n",
        "def tanh(x):\n",
        "  return(torch.exp(x) - torch.exp(-x)) / (torch.exp(x) + torch.exp(-x))\n",
        "\n",
        "def sigmoid(x):\n",
        "  return 1 / ( 1 + torch . exp ( - x ) )\n",
        "\n",
        "# Sinir agi modelinin tanimlanmasi\n",
        "class MyModel ( nn . Module ) :\n",
        "  def __init__ (self):\n",
        "    super (MyModel, self).__init__()\n",
        "    self.hidden_layer = nn.Linear (3, 50) # 3 girdi ozelliginden 50 gizli norona gecis yapacak\n",
        "    self.output_layer = nn.Linear (50, 1) # 50 gizli norandan 1 cikti norona gecis yapacak\n",
        "  def forward (self, x):\n",
        "    hidden = tanh(self.hidden_layer(x)) # Gizli katmani uygula\n",
        "    output = sigmoid(self.output_layer(hidden)) # Cikti katmanini uygula\n",
        "    return output\n",
        "\n",
        "# Modelin olusturulmasi\n",
        "model = MyModel()\n",
        "# Forward Propagation ’u uygulanmasi\n",
        "output = model(X)\n",
        "print(output)"
      ]
    }
  ]
}